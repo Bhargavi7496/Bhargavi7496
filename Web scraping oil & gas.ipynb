{
 "cells": [
  {
   "cell_type": "code",
   "execution_count": 1,
   "id": "30c525ca",
   "metadata": {},
   "outputs": [],
   "source": [
    "import pandas as pd\n",
    "import numpy as np\n",
    "import matplotlib.pyplot as plt\n",
    "import seaborn as sns\n",
    "%matplotlib inline"
   ]
  },
  {
   "cell_type": "code",
   "execution_count": 2,
   "id": "31938401",
   "metadata": {},
   "outputs": [],
   "source": [
    "from urllib.request import urlopen\n",
    "from bs4 import BeautifulSoup"
   ]
  },
  {
   "cell_type": "code",
   "execution_count": 3,
   "id": "71da2b5f",
   "metadata": {},
   "outputs": [],
   "source": [
    "url = \"https://www.dmr.nd.gov/oilgas/bakkenwells.asp\"\n",
    "html = urlopen(url)"
   ]
  },
  {
   "cell_type": "code",
   "execution_count": 4,
   "id": "25c25440",
   "metadata": {},
   "outputs": [
    {
     "data": {
      "text/plain": [
       "bs4.BeautifulSoup"
      ]
     },
     "execution_count": 4,
     "metadata": {},
     "output_type": "execute_result"
    }
   ],
   "source": [
    "soup = BeautifulSoup(html, 'lxml')\n",
    "type(soup)"
   ]
  },
  {
   "cell_type": "code",
   "execution_count": 5,
   "id": "f0ca39c6",
   "metadata": {},
   "outputs": [
    {
     "name": "stdout",
     "output_type": "stream",
     "text": [
      "<title>Breakdown of Bakken horizontal wells by producing zone</title>\n"
     ]
    }
   ],
   "source": [
    "title = soup.title\n",
    "print(title)"
   ]
  },
  {
   "cell_type": "code",
   "execution_count": 7,
   "id": "5461c017",
   "metadata": {},
   "outputs": [
    {
     "data": {
      "text/plain": [
       "'\\n\\n\\nBreakdown of Bakken horizontal wells by producing zone\\n\\n\\n\\n\\n\\n\\n[][]\\n\\n\\n\\n\\n\\n\\nRelated Links\\n\\n\\n\\n\\n\\n\\n\\n\\n\\n\\n\\nBakken Horizontal Wells By Producing Zone\\n\\n\\n\\nData Services Notification:\\nJanuary 19, 2022 Data Services Update:  Oil and Gas Division well data is updating hourly - This includes wells shown in the GIS Map Server, Well Index, and more. Data still remaining to \\r\\n\\t\\tbe upgraded includes: Rig List, Docket/Hearing updates, and Pool information. Check this alert frequently for updated progress on website services and any questions regarding can be emailed \\r\\n\\t\\tto oilandgasinfo@nd.gov.\\n\\n\\n\\nFormation: \\n\\nSelect Formation\\nMiddle Bakken\\nThree Forks\\nMiddle Bakken / Three Forks\\nLodgepole\\nUpper Bakken Shale\\nLodgepole / Middle Bakken\\n\\n\\n\\n\\n\\n\\n\\n\\n[DMR Home] [Disclaimer] [Privacy] [Security] [Feedback]\\n\\n\\n'"
      ]
     },
     "execution_count": 7,
     "metadata": {},
     "output_type": "execute_result"
    }
   ],
   "source": [
    "text = soup.get_text()\n",
    "text"
   ]
  },
  {
   "cell_type": "code",
   "execution_count": 8,
   "id": "6d7686c5",
   "metadata": {},
   "outputs": [
    {
     "data": {
      "text/plain": [
       "[<a href=\"http://www.nd.gov/\"><img alt=\"nd.gov - The Official Portal for North Dakota State Government\" height=\"25\" src=\"/images/ndgov-banner.gif\" style=\"border-width:0\"/></a>,\n",
       " <a href=\"https://www.dmr.nd.gov/ndgs/bakken/bakkenthree.asp\" onblur=\"MM_swapImgRestore()\" onfocus=\"MM_swapImage('Image99','','./images/btfover.gif',1)\" onmouseout=\"MM_swapImgRestore()\" onmouseover=\"MM_swapImage('Image99','','./images/btfover.gif',1)\"><img alt=\"Go to the NDGS Bakken - Three Forks information web page\" border=\"0\" height=\"24\" name=\"Image99\" src=\"./images/btf.gif\" width=\"150\"/></a>,\n",
       " <a href=\"mailto:oilandgasinfo@nd.gov\">oilandgasinfo@nd.gov</a>,\n",
       " <a href=\"https://www.dmr.nd.gov/oilgas/\"><img alt=\"Return to Oil &amp; Gas Home Page\" border=\"0\" height=\"67\" src=\"https://www.dmr.nd.gov/oilgas/images/ogdmrlogosmall.gif\" width=\"108\"/></a>,\n",
       " <a href=\"https://www.dmr.nd.gov/dmr\">DMR Home</a>,\n",
       " <a href=\"/oilgas/disclaimer.asp\">Disclaimer</a>,\n",
       " <a href=\"/oilgas/privacy.asp\">Privacy</a>,\n",
       " <a href=\"/oilgas/security.asp\">Security</a>,\n",
       " <a href=\"https://www.dmr.nd.gov/dmr/about-dmr\">Feedback</a>]"
      ]
     },
     "execution_count": 8,
     "metadata": {},
     "output_type": "execute_result"
    }
   ],
   "source": [
    "soup.find_all('a')"
   ]
  },
  {
   "cell_type": "code",
   "execution_count": 9,
   "id": "71196b02",
   "metadata": {},
   "outputs": [
    {
     "name": "stdout",
     "output_type": "stream",
     "text": [
      "http://www.nd.gov/\n",
      "https://www.dmr.nd.gov/ndgs/bakken/bakkenthree.asp\n",
      "mailto:oilandgasinfo@nd.gov\n",
      "https://www.dmr.nd.gov/oilgas/\n",
      "https://www.dmr.nd.gov/dmr\n",
      "/oilgas/disclaimer.asp\n",
      "/oilgas/privacy.asp\n",
      "/oilgas/security.asp\n",
      "https://www.dmr.nd.gov/dmr/about-dmr\n"
     ]
    }
   ],
   "source": [
    "all_links = soup.find_all(\"a\")\n",
    "for link in all_links:\n",
    "    print(link.get(\"href\"))"
   ]
  },
  {
   "cell_type": "code",
   "execution_count": 10,
   "id": "4972b835",
   "metadata": {},
   "outputs": [
    {
     "name": "stdout",
     "output_type": "stream",
     "text": [
      "[<tr>\n",
      "<td align=\"left\" height=\"0%\" valign=\"top\" width=\"15%\">\n",
      "<table border=\"0\" cellpadding=\"0\" cellspacing=\"0\" height=\"0%\" summary=\"Bakken Wells navigation table\" width=\"100%\">\n",
      "<tr>\n",
      "<td align=\"center\" bgcolor=\"#FFFF00\" height=\"0%\" valign=\"top\" width=\"0%\">\n",
      "<b>Related Links</b>\n",
      "</td>\n",
      "</tr>\n",
      "<tr>\n",
      "<td height=\"0%\" width=\"0%\">\n",
      "<a href=\"https://www.dmr.nd.gov/ndgs/bakken/bakkenthree.asp\" onblur=\"MM_swapImgRestore()\" onfocus=\"MM_swapImage('Image99','','./images/btfover.gif',1)\" onmouseout=\"MM_swapImgRestore()\" onmouseover=\"MM_swapImage('Image99','','./images/btfover.gif',1)\"><img alt=\"Go to the NDGS Bakken - Three Forks information web page\" border=\"0\" height=\"24\" name=\"Image99\" src=\"./images/btf.gif\" width=\"150\"/></a>\n",
      "</td>\n",
      "</tr>\n",
      "</table>\n",
      "</td>\n",
      "<td height=\"0%\" width=\"70%\">\n",
      "<form action=\"bakkenwells.asp\" enctype=\"application/x-www-form-urlencoded\" id=\"form1\" method=\"post\" name=\"form1\">\n",
      "<h2 align=\"center\">Bakken Horizontal Wells By Producing Zone</h2>\n",
      "<table align=\"center\" border=\"0\" cellpadding=\"0\" cellspacing=\"0\" height=\"0%\" width=\"80%\">\n",
      "<tr>\n",
      "<td width=\"0%\">\n",
      "<h3><mark>Data Services Notification:</mark></h3>\n",
      "<p><mark>January 19, 2022 Data Services Update:  Oil and Gas Division well data is updating hourly - This includes wells shown in the GIS Map Server, Well Index, and more. Data still remaining to \r\n",
      "\t\tbe upgraded includes: Rig List, Docket/Hearing updates, and Pool information. Check this alert frequently for updated progress on website services and any questions regarding can be emailed \r\n",
      "\t\tto <a href=\"mailto:oilandgasinfo@nd.gov\">oilandgasinfo@nd.gov</a>.</mark></p>\n",
      "</td>\n",
      "</tr>\n",
      "</table>\n",
      "<b></b><p align=\"center\"><label for=\"menu1\">Formation: </label>\n",
      "<select name=\"menu1\" onchange=\"submit()\">\n",
      "<option selected=\"\" value=\"SF\">Select Formation</option>\n",
      "<option value=\"B\">Middle Bakken</option>\n",
      "<option value=\"TF\">Three Forks</option>\n",
      "<option value=\"BTF\">Middle Bakken / Three Forks</option>\n",
      "<option value=\"L\">Lodgepole</option>\n",
      "<option value=\"UB\">Upper Bakken Shale</option>\n",
      "<option value=\"LB\">Lodgepole / Middle Bakken</option>\n",
      "</select>\n",
      "</p>\n",
      "</form>\n",
      "</td>\n",
      "<td align=\"right\" height=\"0%\" valign=\"top\" width=\"20%\"><a href=\"https://www.dmr.nd.gov/oilgas/\"><img alt=\"Return to Oil &amp; Gas Home Page\" border=\"0\" height=\"67\" src=\"https://www.dmr.nd.gov/oilgas/images/ogdmrlogosmall.gif\" width=\"108\"/></a></td>\n",
      "</tr>, <tr>\n",
      "<td align=\"center\" bgcolor=\"#FFFF00\" height=\"0%\" valign=\"top\" width=\"0%\">\n",
      "<b>Related Links</b>\n",
      "</td>\n",
      "</tr>, <tr>\n",
      "<td height=\"0%\" width=\"0%\">\n",
      "<a href=\"https://www.dmr.nd.gov/ndgs/bakken/bakkenthree.asp\" onblur=\"MM_swapImgRestore()\" onfocus=\"MM_swapImage('Image99','','./images/btfover.gif',1)\" onmouseout=\"MM_swapImgRestore()\" onmouseover=\"MM_swapImage('Image99','','./images/btfover.gif',1)\"><img alt=\"Go to the NDGS Bakken - Three Forks information web page\" border=\"0\" height=\"24\" name=\"Image99\" src=\"./images/btf.gif\" width=\"150\"/></a>\n",
      "</td>\n",
      "</tr>, <tr>\n",
      "<td width=\"0%\">\n",
      "<h3><mark>Data Services Notification:</mark></h3>\n",
      "<p><mark>January 19, 2022 Data Services Update:  Oil and Gas Division well data is updating hourly - This includes wells shown in the GIS Map Server, Well Index, and more. Data still remaining to \r\n",
      "\t\tbe upgraded includes: Rig List, Docket/Hearing updates, and Pool information. Check this alert frequently for updated progress on website services and any questions regarding can be emailed \r\n",
      "\t\tto <a href=\"mailto:oilandgasinfo@nd.gov\">oilandgasinfo@nd.gov</a>.</mark></p>\n",
      "</td>\n",
      "</tr>]\n"
     ]
    }
   ],
   "source": [
    "rows = soup.find_all('tr')\n",
    "print(rows[:10])"
   ]
  },
  {
   "cell_type": "code",
   "execution_count": 11,
   "id": "41c74a51",
   "metadata": {},
   "outputs": [
    {
     "name": "stdout",
     "output_type": "stream",
     "text": [
      "[<td width=\"0%\">\n",
      "<h3><mark>Data Services Notification:</mark></h3>\n",
      "<p><mark>January 19, 2022 Data Services Update:  Oil and Gas Division well data is updating hourly - This includes wells shown in the GIS Map Server, Well Index, and more. Data still remaining to \r\n",
      "\t\tbe upgraded includes: Rig List, Docket/Hearing updates, and Pool information. Check this alert frequently for updated progress on website services and any questions regarding can be emailed \r\n",
      "\t\tto <a href=\"mailto:oilandgasinfo@nd.gov\">oilandgasinfo@nd.gov</a>.</mark></p>\n",
      "</td>]\n"
     ]
    },
    {
     "data": {
      "text/plain": [
       "bs4.element.ResultSet"
      ]
     },
     "execution_count": 11,
     "metadata": {},
     "output_type": "execute_result"
    }
   ],
   "source": [
    "for row in rows:\n",
    "    row_td = row.find_all('td')\n",
    "print(row_td)\n",
    "type(row_td)"
   ]
  },
  {
   "cell_type": "code",
   "execution_count": 12,
   "id": "fbc877a1",
   "metadata": {},
   "outputs": [
    {
     "name": "stdout",
     "output_type": "stream",
     "text": [
      "[\n",
      "Data Services Notification:\n",
      "January 19, 2022 Data Services Update:  Oil and Gas Division well data is updating hourly - This includes wells shown in the GIS Map Server, Well Index, and more. Data still remaining to \r\n",
      "\t\tbe upgraded includes: Rig List, Docket/Hearing updates, and Pool information. Check this alert frequently for updated progress on website services and any questions regarding can be emailed \r\n",
      "\t\tto oilandgasinfo@nd.gov.\n",
      "]\n"
     ]
    }
   ],
   "source": [
    "str_cells = str(row_td)\n",
    "cleantext = BeautifulSoup(str_cells, \"lxml\").get_text()\n",
    "print(cleantext)"
   ]
  },
  {
   "cell_type": "code",
   "execution_count": 13,
   "id": "218492b3",
   "metadata": {},
   "outputs": [
    {
     "name": "stdout",
     "output_type": "stream",
     "text": [
      "[\n",
      "Data Services Notification:\n",
      "January 19, 2022 Data Services Update:  Oil and Gas Division well data is updating hourly - This includes wells shown in the GIS Map Server, Well Index, and more. Data still remaining to \r\n",
      "\t\tbe upgraded includes: Rig List, Docket/Hearing updates, and Pool information. Check this alert frequently for updated progress on website services and any questions regarding can be emailed \r\n",
      "\t\tto oilandgasinfo@nd.gov.\n",
      "]\n"
     ]
    },
    {
     "data": {
      "text/plain": [
       "str"
      ]
     },
     "execution_count": 13,
     "metadata": {},
     "output_type": "execute_result"
    }
   ],
   "source": [
    "import re\n",
    "\n",
    "list_rows = []\n",
    "for row in rows:\n",
    "    cells = row.find_all('td')\n",
    "    str_cells = str(cells)\n",
    "    clean = re.compile('<.*?>')\n",
    "    clean2 = (re.sub(clean, '',str_cells))\n",
    "    list_rows.append(clean2)\n",
    "print(clean2)\n",
    "type(clean2)\n"
   ]
  },
  {
   "cell_type": "code",
   "execution_count": 14,
   "id": "80cf540d",
   "metadata": {},
   "outputs": [
    {
     "data": {
      "text/html": [
       "<div>\n",
       "<style scoped>\n",
       "    .dataframe tbody tr th:only-of-type {\n",
       "        vertical-align: middle;\n",
       "    }\n",
       "\n",
       "    .dataframe tbody tr th {\n",
       "        vertical-align: top;\n",
       "    }\n",
       "\n",
       "    .dataframe thead th {\n",
       "        text-align: right;\n",
       "    }\n",
       "</style>\n",
       "<table border=\"1\" class=\"dataframe\">\n",
       "  <thead>\n",
       "    <tr style=\"text-align: right;\">\n",
       "      <th></th>\n",
       "      <th>0</th>\n",
       "    </tr>\n",
       "  </thead>\n",
       "  <tbody>\n",
       "    <tr>\n",
       "      <th>0</th>\n",
       "      <td>[\\n\\n\\n\\nRelated Links\\n\\n\\n\\n\\n\\n\\n\\n\\n, \\nRe...</td>\n",
       "    </tr>\n",
       "    <tr>\n",
       "      <th>1</th>\n",
       "      <td>[\\nRelated Links\\n]</td>\n",
       "    </tr>\n",
       "    <tr>\n",
       "      <th>2</th>\n",
       "      <td>[\\n\\n]</td>\n",
       "    </tr>\n",
       "    <tr>\n",
       "      <th>3</th>\n",
       "      <td>[\\nData Services Notification:\\nJanuary 19, 20...</td>\n",
       "    </tr>\n",
       "  </tbody>\n",
       "</table>\n",
       "</div>"
      ],
      "text/plain": [
       "                                                   0\n",
       "0  [\\n\\n\\n\\nRelated Links\\n\\n\\n\\n\\n\\n\\n\\n\\n, \\nRe...\n",
       "1                                [\\nRelated Links\\n]\n",
       "2                                             [\\n\\n]\n",
       "3  [\\nData Services Notification:\\nJanuary 19, 20..."
      ]
     },
     "execution_count": 14,
     "metadata": {},
     "output_type": "execute_result"
    }
   ],
   "source": [
    "df = pd.DataFrame(list_rows)\n",
    "df.head(10)\n"
   ]
  },
  {
   "cell_type": "code",
   "execution_count": 15,
   "id": "dc35e0ad",
   "metadata": {},
   "outputs": [
    {
     "name": "stdout",
     "output_type": "stream",
     "text": [
      "Requirement already satisfied: beautifulsoup4 in c:\\users\\bhargavi\\anaconda3\\lib\\site-packages (4.11.1)\n",
      "Requirement already satisfied: requests in c:\\users\\bhargavi\\anaconda3\\lib\\site-packages (2.28.1)\n",
      "Collecting selenium\n",
      "  Downloading selenium-4.18.1-py3-none-any.whl (10.0 MB)\n",
      "     ---------------------------------------- 10.0/10.0 MB 3.6 MB/s eta 0:00:00\n",
      "Requirement already satisfied: soupsieve>1.2 in c:\\users\\bhargavi\\anaconda3\\lib\\site-packages (from beautifulsoup4) (2.3.1)\n",
      "Requirement already satisfied: certifi>=2017.4.17 in c:\\users\\bhargavi\\anaconda3\\lib\\site-packages (from requests) (2022.9.14)\n",
      "Requirement already satisfied: urllib3<1.27,>=1.21.1 in c:\\users\\bhargavi\\anaconda3\\lib\\site-packages (from requests) (1.26.11)\n",
      "Requirement already satisfied: idna<4,>=2.5 in c:\\users\\bhargavi\\anaconda3\\lib\\site-packages (from requests) (3.3)\n",
      "Requirement already satisfied: charset-normalizer<3,>=2 in c:\\users\\bhargavi\\anaconda3\\lib\\site-packages (from requests) (2.0.4)\n",
      "Collecting typing_extensions>=4.9.0\n",
      "  Downloading typing_extensions-4.10.0-py3-none-any.whl (33 kB)\n",
      "Collecting trio~=0.17\n",
      "  Downloading trio-0.24.0-py3-none-any.whl (460 kB)\n",
      "     -------------------------------------- 460.2/460.2 kB 9.6 MB/s eta 0:00:00\n",
      "Collecting trio-websocket~=0.9\n",
      "  Downloading trio_websocket-0.11.1-py3-none-any.whl (17 kB)\n",
      "Collecting outcome\n",
      "  Downloading outcome-1.3.0.post0-py2.py3-none-any.whl (10 kB)\n",
      "Collecting exceptiongroup\n",
      "  Downloading exceptiongroup-1.2.0-py3-none-any.whl (16 kB)\n",
      "Collecting sniffio>=1.3.0\n",
      "  Downloading sniffio-1.3.1-py3-none-any.whl (10 kB)\n",
      "Requirement already satisfied: cffi>=1.14 in c:\\users\\bhargavi\\anaconda3\\lib\\site-packages (from trio~=0.17->selenium) (1.15.1)\n",
      "Requirement already satisfied: attrs>=20.1.0 in c:\\users\\bhargavi\\anaconda3\\lib\\site-packages (from trio~=0.17->selenium) (21.4.0)\n",
      "Requirement already satisfied: sortedcontainers in c:\\users\\bhargavi\\anaconda3\\lib\\site-packages (from trio~=0.17->selenium) (2.4.0)\n",
      "Collecting wsproto>=0.14\n",
      "  Downloading wsproto-1.2.0-py3-none-any.whl (24 kB)\n",
      "Requirement already satisfied: PySocks!=1.5.7,<2.0,>=1.5.6 in c:\\users\\bhargavi\\anaconda3\\lib\\site-packages (from urllib3<1.27,>=1.21.1->requests) (1.7.1)\n",
      "Requirement already satisfied: pycparser in c:\\users\\bhargavi\\anaconda3\\lib\\site-packages (from cffi>=1.14->trio~=0.17->selenium) (2.21)\n",
      "Collecting h11<1,>=0.9.0\n",
      "  Downloading h11-0.14.0-py3-none-any.whl (58 kB)\n",
      "     ---------------------------------------- 58.3/58.3 kB ? eta 0:00:00\n",
      "Installing collected packages: typing_extensions, sniffio, outcome, h11, exceptiongroup, wsproto, trio, trio-websocket, selenium\n",
      "  Attempting uninstall: typing_extensions\n",
      "    Found existing installation: typing_extensions 4.3.0\n",
      "    Uninstalling typing_extensions-4.3.0:\n",
      "      Successfully uninstalled typing_extensions-4.3.0\n",
      "  Attempting uninstall: sniffio\n",
      "    Found existing installation: sniffio 1.2.0\n",
      "    Uninstalling sniffio-1.2.0:\n",
      "      Successfully uninstalled sniffio-1.2.0\n",
      "Successfully installed exceptiongroup-1.2.0 h11-0.14.0 outcome-1.3.0.post0 selenium-4.18.1 sniffio-1.3.1 trio-0.24.0 trio-websocket-0.11.1 typing_extensions-4.10.0 wsproto-1.2.0\n",
      "Note: you may need to restart the kernel to use updated packages.\n"
     ]
    }
   ],
   "source": [
    "pip install beautifulsoup4 requests selenium\n"
   ]
  },
  {
   "cell_type": "code",
   "execution_count": 17,
   "id": "ad462066",
   "metadata": {},
   "outputs": [
    {
     "ename": "AttributeError",
     "evalue": "'str' object has no attribute 'capabilities'",
     "output_type": "error",
     "traceback": [
      "\u001b[1;31m---------------------------------------------------------------------------\u001b[0m",
      "\u001b[1;31mAttributeError\u001b[0m                            Traceback (most recent call last)",
      "\u001b[1;32m~\\anaconda3\\lib\\site-packages\\selenium\\webdriver\\common\\driver_finder.py\u001b[0m in \u001b[0;36mget_path\u001b[1;34m(service, options)\u001b[0m\n\u001b[0;32m     37\u001b[0m         \u001b[1;32mtry\u001b[0m\u001b[1;33m:\u001b[0m\u001b[1;33m\u001b[0m\u001b[1;33m\u001b[0m\u001b[0m\n\u001b[1;32m---> 38\u001b[1;33m             \u001b[0mpath\u001b[0m \u001b[1;33m=\u001b[0m \u001b[0mSeleniumManager\u001b[0m\u001b[1;33m(\u001b[0m\u001b[1;33m)\u001b[0m\u001b[1;33m.\u001b[0m\u001b[0mdriver_location\u001b[0m\u001b[1;33m(\u001b[0m\u001b[0moptions\u001b[0m\u001b[1;33m)\u001b[0m \u001b[1;32mif\u001b[0m \u001b[0mpath\u001b[0m \u001b[1;32mis\u001b[0m \u001b[1;32mNone\u001b[0m \u001b[1;32melse\u001b[0m \u001b[0mpath\u001b[0m\u001b[1;33m\u001b[0m\u001b[1;33m\u001b[0m\u001b[0m\n\u001b[0m\u001b[0;32m     39\u001b[0m         \u001b[1;32mexcept\u001b[0m \u001b[0mException\u001b[0m \u001b[1;32mas\u001b[0m \u001b[0merr\u001b[0m\u001b[1;33m:\u001b[0m\u001b[1;33m\u001b[0m\u001b[1;33m\u001b[0m\u001b[0m\n",
      "\u001b[1;32m~\\anaconda3\\lib\\site-packages\\selenium\\webdriver\\common\\selenium_manager.py\u001b[0m in \u001b[0;36mdriver_location\u001b[1;34m(self, options)\u001b[0m\n\u001b[0;32m     86\u001b[0m \u001b[1;33m\u001b[0m\u001b[0m\n\u001b[1;32m---> 87\u001b[1;33m         \u001b[0mbrowser\u001b[0m \u001b[1;33m=\u001b[0m \u001b[0moptions\u001b[0m\u001b[1;33m.\u001b[0m\u001b[0mcapabilities\u001b[0m\u001b[1;33m[\u001b[0m\u001b[1;34m\"browserName\"\u001b[0m\u001b[1;33m]\u001b[0m\u001b[1;33m\u001b[0m\u001b[1;33m\u001b[0m\u001b[0m\n\u001b[0m\u001b[0;32m     88\u001b[0m \u001b[1;33m\u001b[0m\u001b[0m\n",
      "\u001b[1;31mAttributeError\u001b[0m: 'str' object has no attribute 'capabilities'",
      "\nDuring handling of the above exception, another exception occurred:\n",
      "\u001b[1;31mAttributeError\u001b[0m                            Traceback (most recent call last)",
      "\u001b[1;32m~\\AppData\\Local\\Temp\\ipykernel_3924\\3205837875.py\u001b[0m in \u001b[0;36m<module>\u001b[1;34m\u001b[0m\n\u001b[0;32m      8\u001b[0m \u001b[1;33m\u001b[0m\u001b[0m\n\u001b[0;32m      9\u001b[0m \u001b[1;31m# Create a webdriver instance (make sure to provide the path to your driver executable)\u001b[0m\u001b[1;33m\u001b[0m\u001b[1;33m\u001b[0m\u001b[0m\n\u001b[1;32m---> 10\u001b[1;33m \u001b[0mdriver\u001b[0m \u001b[1;33m=\u001b[0m \u001b[0mwebdriver\u001b[0m\u001b[1;33m.\u001b[0m\u001b[0mChrome\u001b[0m\u001b[1;33m(\u001b[0m\u001b[1;34m'/path/to/chromedriver'\u001b[0m\u001b[1;33m)\u001b[0m\u001b[1;33m\u001b[0m\u001b[1;33m\u001b[0m\u001b[0m\n\u001b[0m\u001b[0;32m     11\u001b[0m \u001b[1;33m\u001b[0m\u001b[0m\n\u001b[0;32m     12\u001b[0m \u001b[1;31m# Open the website\u001b[0m\u001b[1;33m\u001b[0m\u001b[1;33m\u001b[0m\u001b[0m\n",
      "\u001b[1;32m~\\anaconda3\\lib\\site-packages\\selenium\\webdriver\\chrome\\webdriver.py\u001b[0m in \u001b[0;36m__init__\u001b[1;34m(self, options, service, keep_alive)\u001b[0m\n\u001b[0;32m     43\u001b[0m         \u001b[0moptions\u001b[0m \u001b[1;33m=\u001b[0m \u001b[0moptions\u001b[0m \u001b[1;32mif\u001b[0m \u001b[0moptions\u001b[0m \u001b[1;32melse\u001b[0m \u001b[0mOptions\u001b[0m\u001b[1;33m(\u001b[0m\u001b[1;33m)\u001b[0m\u001b[1;33m\u001b[0m\u001b[1;33m\u001b[0m\u001b[0m\n\u001b[0;32m     44\u001b[0m \u001b[1;33m\u001b[0m\u001b[0m\n\u001b[1;32m---> 45\u001b[1;33m         super().__init__(\n\u001b[0m\u001b[0;32m     46\u001b[0m             \u001b[0mbrowser_name\u001b[0m\u001b[1;33m=\u001b[0m\u001b[0mDesiredCapabilities\u001b[0m\u001b[1;33m.\u001b[0m\u001b[0mCHROME\u001b[0m\u001b[1;33m[\u001b[0m\u001b[1;34m\"browserName\"\u001b[0m\u001b[1;33m]\u001b[0m\u001b[1;33m,\u001b[0m\u001b[1;33m\u001b[0m\u001b[1;33m\u001b[0m\u001b[0m\n\u001b[0;32m     47\u001b[0m             \u001b[0mvendor_prefix\u001b[0m\u001b[1;33m=\u001b[0m\u001b[1;34m\"goog\"\u001b[0m\u001b[1;33m,\u001b[0m\u001b[1;33m\u001b[0m\u001b[1;33m\u001b[0m\u001b[0m\n",
      "\u001b[1;32m~\\anaconda3\\lib\\site-packages\\selenium\\webdriver\\chromium\\webdriver.py\u001b[0m in \u001b[0;36m__init__\u001b[1;34m(self, browser_name, vendor_prefix, options, service, keep_alive)\u001b[0m\n\u001b[0;32m     47\u001b[0m         \u001b[0mself\u001b[0m\u001b[1;33m.\u001b[0m\u001b[0mservice\u001b[0m \u001b[1;33m=\u001b[0m \u001b[0mservice\u001b[0m\u001b[1;33m\u001b[0m\u001b[1;33m\u001b[0m\u001b[0m\n\u001b[0;32m     48\u001b[0m \u001b[1;33m\u001b[0m\u001b[0m\n\u001b[1;32m---> 49\u001b[1;33m         \u001b[0mself\u001b[0m\u001b[1;33m.\u001b[0m\u001b[0mservice\u001b[0m\u001b[1;33m.\u001b[0m\u001b[0mpath\u001b[0m \u001b[1;33m=\u001b[0m \u001b[0mDriverFinder\u001b[0m\u001b[1;33m.\u001b[0m\u001b[0mget_path\u001b[0m\u001b[1;33m(\u001b[0m\u001b[0mself\u001b[0m\u001b[1;33m.\u001b[0m\u001b[0mservice\u001b[0m\u001b[1;33m,\u001b[0m \u001b[0moptions\u001b[0m\u001b[1;33m)\u001b[0m\u001b[1;33m\u001b[0m\u001b[1;33m\u001b[0m\u001b[0m\n\u001b[0m\u001b[0;32m     50\u001b[0m         \u001b[0mself\u001b[0m\u001b[1;33m.\u001b[0m\u001b[0mservice\u001b[0m\u001b[1;33m.\u001b[0m\u001b[0mstart\u001b[0m\u001b[1;33m(\u001b[0m\u001b[1;33m)\u001b[0m\u001b[1;33m\u001b[0m\u001b[1;33m\u001b[0m\u001b[0m\n\u001b[0;32m     51\u001b[0m \u001b[1;33m\u001b[0m\u001b[0m\n",
      "\u001b[1;32m~\\anaconda3\\lib\\site-packages\\selenium\\webdriver\\common\\driver_finder.py\u001b[0m in \u001b[0;36mget_path\u001b[1;34m(service, options)\u001b[0m\n\u001b[0;32m     38\u001b[0m             \u001b[0mpath\u001b[0m \u001b[1;33m=\u001b[0m \u001b[0mSeleniumManager\u001b[0m\u001b[1;33m(\u001b[0m\u001b[1;33m)\u001b[0m\u001b[1;33m.\u001b[0m\u001b[0mdriver_location\u001b[0m\u001b[1;33m(\u001b[0m\u001b[0moptions\u001b[0m\u001b[1;33m)\u001b[0m \u001b[1;32mif\u001b[0m \u001b[0mpath\u001b[0m \u001b[1;32mis\u001b[0m \u001b[1;32mNone\u001b[0m \u001b[1;32melse\u001b[0m \u001b[0mpath\u001b[0m\u001b[1;33m\u001b[0m\u001b[1;33m\u001b[0m\u001b[0m\n\u001b[0;32m     39\u001b[0m         \u001b[1;32mexcept\u001b[0m \u001b[0mException\u001b[0m \u001b[1;32mas\u001b[0m \u001b[0merr\u001b[0m\u001b[1;33m:\u001b[0m\u001b[1;33m\u001b[0m\u001b[1;33m\u001b[0m\u001b[0m\n\u001b[1;32m---> 40\u001b[1;33m             \u001b[0mmsg\u001b[0m \u001b[1;33m=\u001b[0m \u001b[1;34mf\"Unable to obtain driver for {options.capabilities['browserName']} using Selenium Manager.\"\u001b[0m\u001b[1;33m\u001b[0m\u001b[1;33m\u001b[0m\u001b[0m\n\u001b[0m\u001b[0;32m     41\u001b[0m             \u001b[1;32mraise\u001b[0m \u001b[0mNoSuchDriverException\u001b[0m\u001b[1;33m(\u001b[0m\u001b[0mmsg\u001b[0m\u001b[1;33m)\u001b[0m \u001b[1;32mfrom\u001b[0m \u001b[0merr\u001b[0m\u001b[1;33m\u001b[0m\u001b[1;33m\u001b[0m\u001b[0m\n\u001b[0;32m     42\u001b[0m \u001b[1;33m\u001b[0m\u001b[0m\n",
      "\u001b[1;31mAttributeError\u001b[0m: 'str' object has no attribute 'capabilities'"
     ]
    }
   ],
   "source": [
    "import time\n",
    "from bs4 import BeautifulSoup\n",
    "from selenium import webdriver\n",
    "from selenium.webdriver.support.ui import Select\n",
    "\n",
    "# Specify the URL of the website\n",
    "url = 'https://www.dmr.nd.gov/oilgas/bakkenwells.asp'\n",
    "\n",
    "# Create a webdriver instance (make sure to provide the path to your driver executable)\n",
    "driver = webdriver.Chrome('/path/to/chromedriver')\n",
    "\n",
    "# Open the website\n",
    "driver.get(url)\n",
    "\n",
    "# Wait for the page to load (you may need to adjust the time based on the website)\n",
    "time.sleep(2)\n",
    "\n",
    "# Find and interact with the drop-down menu using Selenium\n",
    "dropdown_element = driver.find_element_by_id('Middle Bakken')  # Replace 'your_dropdown_id' with the actual ID\n",
    "dropdown = Select(dropdown_element)\n",
    "\n",
    "# Select an option from the drop-down menu (you can modify this based on your requirements)\n",
    "dropdown.select_by_visible_text('Middle Bakken')\n",
    "\n",
    "# Wait for the page to update (you may need to adjust the time based on the website)\n",
    "time.sleep(2)\n",
    "\n",
    "# Get the updated page content after selecting an option\n",
    "page_source = driver.page_source\n",
    "\n",
    "# Use BeautifulSoup to parse the HTML content\n",
    "soup = BeautifulSoup(page_source, 'html.parser')\n",
    "\n",
    "# Extract the data you need using BeautifulSoup methods\n",
    "# Example: print the page title\n",
    "title = soup.title.text\n",
    "print(f\"Page Title: {title}\")\n",
    "\n",
    "# Close the webdriver\n",
    "driver.quit()\n"
   ]
  },
  {
   "cell_type": "code",
   "execution_count": null,
   "id": "e5747d60",
   "metadata": {},
   "outputs": [],
   "source": []
  }
 ],
 "metadata": {
  "kernelspec": {
   "display_name": "Python 3 (ipykernel)",
   "language": "python",
   "name": "python3"
  },
  "language_info": {
   "codemirror_mode": {
    "name": "ipython",
    "version": 3
   },
   "file_extension": ".py",
   "mimetype": "text/x-python",
   "name": "python",
   "nbconvert_exporter": "python",
   "pygments_lexer": "ipython3",
   "version": "3.9.13"
  }
 },
 "nbformat": 4,
 "nbformat_minor": 5
}
